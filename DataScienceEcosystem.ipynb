{
 "cells": [
  {
   "cell_type": "markdown",
   "id": "83147feb-692b-43ec-bafb-c091c7b9372a",
   "metadata": {},
   "source": [
    "# Data Science Tools and Ecosystem"
   ]
  },
  {
   "cell_type": "markdown",
   "id": "3c2e62b1-3b3c-46fe-ae19-8c689024554f",
   "metadata": {},
   "source": [
    "In this notebook, Data Science Tools and Ecosystem are summarized."
   ]
  },
  {
   "cell_type": "markdown",
   "id": "574969c0-a81e-4708-853d-9cb56568b10f",
   "metadata": {},
   "source": [
    " **Objectives :**\n",
    " + Data Science Languages\n",
    " + Data Science Libraries\n",
    " + Data Science Tools\n",
    " + Arithmatic expressions "
   ]
  },
  {
   "cell_type": "markdown",
   "id": "af17d2cf-521d-4eca-bd3a-c8957159c770",
   "metadata": {},
   "source": [
    "Some of the popular languages that Data Scientists use are:\n",
    "1. Python\n",
    "2. R\n",
    "3. SQL\n",
    "4. Java\n",
    "5. Scala\n",
    "6. C++\n",
    "6. Julia"
   ]
  },
  {
   "cell_type": "markdown",
   "id": "9b3653d7-ac40-4426-bd68-457500b9be03",
   "metadata": {},
   "source": [
    "Some of the commonly used libraries used by Data Scientists include:\n",
    "1. Pandas\n",
    "2. NumPy\n",
    "3. Matplotlib\n",
    "4. Seaborn\n",
    "5. Scikit-learn\n",
    "6. Keras\n",
    "7. TensorFlow\n",
    "8. Pytorch\n",
    "9. Apache Spark\n",
    "10. Vegas\n",
    "11. BigDL\n",
    "12. ggplot2"
   ]
  },
  {
   "cell_type": "markdown",
   "id": "c55d0084-a3e1-4c18-87ad-6aad5d27480f",
   "metadata": {},
   "source": [
    "\n",
    "|Data Science Tools|\n",
    "| -----------------|\n",
    "| Jupiter |\n",
    "| Anaconda Navigator |\n",
    "| R studio |"
   ]
  },
  {
   "cell_type": "markdown",
   "id": "25803eb8-34dc-4bcb-a43d-9811dad775f6",
   "metadata": {},
   "source": [
    "### Below are a few examples of evaluating arithmetic expressions in Python."
   ]
  },
  {
   "cell_type": "code",
   "execution_count": 11,
   "id": "ce84af47-8451-4ce5-b6c0-515bfe22d1ac",
   "metadata": {},
   "outputs": [
    {
     "data": {
      "text/plain": [
       "17"
      ]
     },
     "execution_count": 11,
     "metadata": {},
     "output_type": "execute_result"
    }
   ],
   "source": [
    "#This a simple arithmetic expression to mutiply then add integers.\n",
    "(3*4)+5"
   ]
  },
  {
   "cell_type": "code",
   "execution_count": 10,
   "id": "0aca505f-3904-435d-bc12-43b643394847",
   "metadata": {},
   "outputs": [
    {
     "data": {
      "text/plain": [
       "3.3333333333333335"
      ]
     },
     "execution_count": 10,
     "metadata": {},
     "output_type": "execute_result"
    }
   ],
   "source": [
    "# This will convert 200 minutes to hours by diving by 60.\n",
    "200 /60"
   ]
  },
  {
   "cell_type": "markdown",
   "id": "ec6c0ff6-2148-4ac4-9661-6538b03af462",
   "metadata": {},
   "source": [
    "## Author \n",
    "   Dipti G"
   ]
  },
  {
   "cell_type": "code",
   "execution_count": null,
   "id": "0280580a-143d-484d-ae0a-c464cad124ea",
   "metadata": {},
   "outputs": [],
   "source": []
  }
 ],
 "metadata": {
  "kernelspec": {
   "display_name": "Python 3 (ipykernel)",
   "language": "python",
   "name": "python3"
  },
  "language_info": {
   "codemirror_mode": {
    "name": "ipython",
    "version": 3
   },
   "file_extension": ".py",
   "mimetype": "text/x-python",
   "name": "python",
   "nbconvert_exporter": "python",
   "pygments_lexer": "ipython3",
   "version": "3.13.5"
  }
 },
 "nbformat": 4,
 "nbformat_minor": 5
}
